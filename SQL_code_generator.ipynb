{
 "cells": [
  {
   "cell_type": "markdown",
   "id": "0e66ce4e-69be-4b2f-850c-1c980d26d432",
   "metadata": {},
   "source": [
    "### Importing all the required libraries"
   ]
  },
  {
   "cell_type": "code",
   "execution_count": 45,
   "id": "a8732c2d-6145-4f5b-952e-dfe73f3a4237",
   "metadata": {},
   "outputs": [
    {
     "name": "stdout",
     "output_type": "stream",
     "text": [
      "Requirement already satisfied: sqlalchemy in /opt/anaconda3/lib/python3.10/site-packages (2.0.30)\n",
      "Requirement already satisfied: typing-extensions>=4.6.0 in /opt/anaconda3/lib/python3.10/site-packages (from sqlalchemy) (4.11.0)\n"
     ]
    }
   ],
   "source": [
    "import os\n",
    "import pandas as pd\n",
    "!pip install sqlalchemy\n",
    "import sqlalchemy as sc\n",
    "from sqlalchemy import create_engine, text\n",
    "from vertexai.language_models import CodeGenerationModel\n",
    "os.environ['GOOGLE_APPLICATION_CREDENTIALS'] = '//Users//sayantrinisaha//Desktop//psyched-metrics-426921-h0-4a9007b858ad.json'"
   ]
  },
  {
   "cell_type": "markdown",
   "id": "948a04ce-f58b-407d-acea-1e7346f9db89",
   "metadata": {},
   "source": [
    "### Reading the test data set on which I will perform some SQL operation"
   ]
  },
  {
   "cell_type": "code",
   "execution_count": 47,
   "id": "2ab97b63-7a57-4b4d-af8a-5365a0058173",
   "metadata": {},
   "outputs": [
    {
     "data": {
      "text/html": [
       "<div>\n",
       "<style scoped>\n",
       "    .dataframe tbody tr th:only-of-type {\n",
       "        vertical-align: middle;\n",
       "    }\n",
       "\n",
       "    .dataframe tbody tr th {\n",
       "        vertical-align: top;\n",
       "    }\n",
       "\n",
       "    .dataframe thead th {\n",
       "        text-align: right;\n",
       "    }\n",
       "</style>\n",
       "<table border=\"1\" class=\"dataframe\">\n",
       "  <thead>\n",
       "    <tr style=\"text-align: right;\">\n",
       "      <th></th>\n",
       "      <th>species</th>\n",
       "      <th>island</th>\n",
       "      <th>bill_length_mm</th>\n",
       "      <th>bill_depth_mm</th>\n",
       "      <th>flipper_length_mm</th>\n",
       "      <th>body_mass_g</th>\n",
       "      <th>sex</th>\n",
       "    </tr>\n",
       "  </thead>\n",
       "  <tbody>\n",
       "    <tr>\n",
       "      <th>0</th>\n",
       "      <td>Adelie</td>\n",
       "      <td>Torgersen</td>\n",
       "      <td>39.1</td>\n",
       "      <td>18.7</td>\n",
       "      <td>181.0</td>\n",
       "      <td>3750.0</td>\n",
       "      <td>MALE</td>\n",
       "    </tr>\n",
       "    <tr>\n",
       "      <th>1</th>\n",
       "      <td>Adelie</td>\n",
       "      <td>Torgersen</td>\n",
       "      <td>39.5</td>\n",
       "      <td>17.4</td>\n",
       "      <td>186.0</td>\n",
       "      <td>3800.0</td>\n",
       "      <td>FEMALE</td>\n",
       "    </tr>\n",
       "    <tr>\n",
       "      <th>2</th>\n",
       "      <td>Adelie</td>\n",
       "      <td>Torgersen</td>\n",
       "      <td>40.3</td>\n",
       "      <td>18.0</td>\n",
       "      <td>195.0</td>\n",
       "      <td>3250.0</td>\n",
       "      <td>FEMALE</td>\n",
       "    </tr>\n",
       "    <tr>\n",
       "      <th>3</th>\n",
       "      <td>Adelie</td>\n",
       "      <td>Torgersen</td>\n",
       "      <td>NaN</td>\n",
       "      <td>NaN</td>\n",
       "      <td>NaN</td>\n",
       "      <td>NaN</td>\n",
       "      <td>NaN</td>\n",
       "    </tr>\n",
       "    <tr>\n",
       "      <th>4</th>\n",
       "      <td>Adelie</td>\n",
       "      <td>Torgersen</td>\n",
       "      <td>36.7</td>\n",
       "      <td>19.3</td>\n",
       "      <td>193.0</td>\n",
       "      <td>3450.0</td>\n",
       "      <td>FEMALE</td>\n",
       "    </tr>\n",
       "  </tbody>\n",
       "</table>\n",
       "</div>"
      ],
      "text/plain": [
       "  species     island  bill_length_mm  bill_depth_mm  flipper_length_mm  \\\n",
       "0  Adelie  Torgersen            39.1           18.7              181.0   \n",
       "1  Adelie  Torgersen            39.5           17.4              186.0   \n",
       "2  Adelie  Torgersen            40.3           18.0              195.0   \n",
       "3  Adelie  Torgersen             NaN            NaN                NaN   \n",
       "4  Adelie  Torgersen            36.7           19.3              193.0   \n",
       "\n",
       "   body_mass_g     sex  \n",
       "0       3750.0    MALE  \n",
       "1       3800.0  FEMALE  \n",
       "2       3250.0  FEMALE  \n",
       "3          NaN     NaN  \n",
       "4       3450.0  FEMALE  "
      ]
     },
     "execution_count": 47,
     "metadata": {},
     "output_type": "execute_result"
    }
   ],
   "source": [
    "df_penguines = pd.read_csv('penguins.csv')\n",
    "df_penguines.head()"
   ]
  },
  {
   "cell_type": "markdown",
   "id": "ad1823f6-d379-429d-acaf-f1fd3af998c3",
   "metadata": {},
   "source": [
    "### Creating the table using the dataframe"
   ]
  },
  {
   "cell_type": "code",
   "execution_count": 49,
   "id": "6c876d96-19a7-4460-82ea-57b16bf5e1f6",
   "metadata": {},
   "outputs": [
    {
     "name": "stdout",
     "output_type": "stream",
     "text": [
      "2024-06-26 17:14:28,059 INFO sqlalchemy.engine.Engine BEGIN (implicit)\n",
      "2024-06-26 17:14:28,066 INFO sqlalchemy.engine.Engine PRAGMA main.table_info(\"Penguins\")\n",
      "2024-06-26 17:14:28,067 INFO sqlalchemy.engine.Engine [raw sql] ()\n",
      "2024-06-26 17:14:28,070 INFO sqlalchemy.engine.Engine PRAGMA temp.table_info(\"Penguins\")\n",
      "2024-06-26 17:14:28,071 INFO sqlalchemy.engine.Engine [raw sql] ()\n",
      "2024-06-26 17:14:28,075 INFO sqlalchemy.engine.Engine \n",
      "CREATE TABLE \"Penguins\" (\n",
      "\t\"index\" BIGINT, \n",
      "\tspecies TEXT, \n",
      "\tisland TEXT, \n",
      "\tbill_length_mm FLOAT, \n",
      "\tbill_depth_mm FLOAT, \n",
      "\tflipper_length_mm FLOAT, \n",
      "\tbody_mass_g FLOAT, \n",
      "\tsex TEXT\n",
      ")\n",
      "\n",
      "\n",
      "2024-06-26 17:14:28,076 INFO sqlalchemy.engine.Engine [no key 0.00063s] ()\n",
      "2024-06-26 17:14:28,077 INFO sqlalchemy.engine.Engine CREATE INDEX \"ix_Penguins_index\" ON \"Penguins\" (\"index\")\n",
      "2024-06-26 17:14:28,078 INFO sqlalchemy.engine.Engine [no key 0.00062s] ()\n",
      "2024-06-26 17:14:28,087 INFO sqlalchemy.engine.Engine INSERT INTO \"Penguins\" (\"index\", species, island, bill_length_mm, bill_depth_mm, flipper_length_mm, body_mass_g, sex) VALUES (?, ?, ?, ?, ?, ?, ?, ?)\n",
      "2024-06-26 17:14:28,087 INFO sqlalchemy.engine.Engine [generated in 0.00288s] [(0, 'Adelie', 'Torgersen', 39.1, 18.7, 181.0, 3750.0, 'MALE'), (1, 'Adelie', 'Torgersen', 39.5, 17.4, 186.0, 3800.0, 'FEMALE'), (2, 'Adelie', 'Torgersen', 40.3, 18.0, 195.0, 3250.0, 'FEMALE'), (3, 'Adelie', 'Torgersen', None, None, None, None, None), (4, 'Adelie', 'Torgersen', 36.7, 19.3, 193.0, 3450.0, 'FEMALE'), (5, 'Adelie', 'Torgersen', 39.3, 20.6, 190.0, 3650.0, 'MALE'), (6, 'Adelie', 'Torgersen', 38.9, 17.8, 181.0, 3625.0, 'FEMALE'), (7, 'Adelie', 'Torgersen', 39.2, 19.6, 195.0, 4675.0, 'MALE')  ... displaying 10 of 344 total bound parameter sets ...  (342, 'Gentoo', 'Biscoe', 45.2, 14.8, 212.0, 5200.0, 'FEMALE'), (343, 'Gentoo', 'Biscoe', 49.9, 16.1, 213.0, 5400.0, 'MALE')]\n",
      "2024-06-26 17:14:28,090 INFO sqlalchemy.engine.Engine SELECT name FROM sqlite_master WHERE type='table' AND name NOT LIKE 'sqlite~_%' ESCAPE '~' ORDER BY name\n",
      "2024-06-26 17:14:28,090 INFO sqlalchemy.engine.Engine [raw sql] ()\n",
      "2024-06-26 17:14:28,091 INFO sqlalchemy.engine.Engine COMMIT\n"
     ]
    }
   ],
   "source": [
    "db_conn = create_engine('sqlite:///:memory:',echo=True)\n",
    "Penguins_view = df_penguines.to_sql(name='Penguins', con=db_conn)"
   ]
  },
  {
   "cell_type": "markdown",
   "id": "ca0090fb-9332-4114-95e2-70e2b7d6807a",
   "metadata": {},
   "source": [
    "### Executing the SQL query using the db_conn"
   ]
  },
  {
   "cell_type": "code",
   "execution_count": 51,
   "id": "7f1a8eb3-1ff6-406b-a45a-df6a93391619",
   "metadata": {},
   "outputs": [
    {
     "name": "stdout",
     "output_type": "stream",
     "text": [
      "2024-06-26 17:14:32,234 INFO sqlalchemy.engine.Engine BEGIN (implicit)\n",
      "2024-06-26 17:14:32,236 INFO sqlalchemy.engine.Engine SELECT * FROM Penguins\n",
      "2024-06-26 17:14:32,236 INFO sqlalchemy.engine.Engine [generated in 0.00276s] ()\n",
      "2024-06-26 17:14:32,239 INFO sqlalchemy.engine.Engine ROLLBACK\n",
      "<class 'pandas.core.frame.DataFrame'>\n",
      "RangeIndex: 344 entries, 0 to 343\n",
      "Data columns (total 7 columns):\n",
      " #   Column             Non-Null Count  Dtype  \n",
      "---  ------             --------------  -----  \n",
      " 0   species            344 non-null    object \n",
      " 1   island             344 non-null    object \n",
      " 2   bill_length_mm     342 non-null    float64\n",
      " 3   bill_depth_mm      342 non-null    float64\n",
      " 4   flipper_length_mm  342 non-null    float64\n",
      " 5   body_mass_g        342 non-null    float64\n",
      " 6   sex                333 non-null    object \n",
      "dtypes: float64(4), object(3)\n",
      "memory usage: 18.9+ KB\n"
     ]
    }
   ],
   "source": [
    "with db_conn.connect() as conn:\n",
    "    result = conn.execute(text(\"SELECT * FROM Penguins\"))\n",
    "    result.all()\n",
    "df_penguines.info()"
   ]
  },
  {
   "cell_type": "markdown",
   "id": "fcb24210-fcdd-43fe-aae3-f9bdb85225f5",
   "metadata": {},
   "source": [
    "### Creating prefix so that we can feed the SQL generator some prefix of the code and ask to construct other SQL query based on the context"
   ]
  },
  {
   "cell_type": "code",
   "execution_count": 53,
   "id": "0a3164af-d8bc-4487-aba0-03a6ed27a7fb",
   "metadata": {},
   "outputs": [],
   "source": [
    "def create_prefix(query):\n",
    "    prefix = f\"\"\" Return a SQL statement that answers the following query:\n",
    "    {query}\n",
    "\n",
    "    For a table called 'Penguins' with the following properties:\n",
    "\n",
    "     #   Column             Non-Null Count  Dtype  \n",
    "    ---  ------             --------------  -----  \n",
    "     0   species            344 non-null    object \n",
    "     1   island             344 non-null    object \n",
    "     2   bill_length_mm     342 non-null    float64\n",
    "     3   bill_depth_mm      342 non-null    float64\n",
    "     4   flipper_length_mm  342 non-null    float64\n",
    "     5   body_mass_g        342 non-null    float64\n",
    "     6   sex                333 non-null    object\n",
    "\n",
    "     here are some example rows:\n",
    "     (0, 'Adelie', 'Torgersen', 39.1, 18.7, 181.0, 3750.0, 'MALE')\n",
    "     (1, 'Adelie', 'Torgersen', 39.5, 17.4, 186.0, 3800.0, 'FEMALE')\n",
    "     (2, 'Adelie', 'Torgersen', 40.3, 18.0, 195.0, 3250.0, 'FEMALE')\n",
    "\n",
    "     Only return the SQL statement for the query.\n",
    "    \"\"\"\n",
    "    return prefix"
   ]
  },
  {
   "cell_type": "markdown",
   "id": "58e8c468-ae2a-42d2-9678-643a05203762",
   "metadata": {},
   "source": [
    "### Creating the function that will use the SQL Query for the question that I will provide through the chat box"
   ]
  },
  {
   "cell_type": "code",
   "execution_count": 66,
   "id": "cb0c0683-06c9-43be-8ee3-a3fe6e8cd898",
   "metadata": {},
   "outputs": [
    {
     "name": "stdin",
     "output_type": "stream",
     "text": [
      "Ask a question about the Penguins table How many Penguines are there?\n"
     ]
    },
    {
     "name": "stdout",
     "output_type": "stream",
     "text": [
      "Hello, I am your AI database assistant\n",
      "\n",
      "\n",
      "\n"
     ]
    },
    {
     "data": {
      "text/plain": [
       "```sql\n",
       "SELECT COUNT(*) AS penguin_count\n",
       "FROM Penguins;\n",
       "```"
      ]
     },
     "execution_count": 66,
     "metadata": {},
     "output_type": "execute_result"
    }
   ],
   "source": [
    "def SQL_CodeGenerator():\n",
    "    #User will provide the input that we will capture\n",
    "    query = input(\"Ask a question about the Penguins table\")\n",
    "\n",
    "    #Calling the create_prefix function defined above\n",
    "    prefix = create_prefix(query)\n",
    "\n",
    "    #I have used 'code-bison' to generate the code here\n",
    "    codegen_model = CodeGenerationModel.from_pretrained('code-bison')\n",
    "\n",
    "    #Passing the prefix to get the resultant SQL query\n",
    "    print(\"Hello, I am your AI database assistant\")\n",
    "    print('\\n\\n')\n",
    "    result = codegen_model.predict(prefix=prefix)\n",
    "\n",
    "    return result\n",
    "SQL_CodeGenerator()    "
   ]
  },
  {
   "cell_type": "markdown",
   "id": "f7dc2b51-122b-4a27-980a-1d932b31ead7",
   "metadata": {},
   "source": [
    "### Cleaning up the output resultant query, so that we can execute this query directly"
   ]
  },
  {
   "cell_type": "code",
   "execution_count": 70,
   "id": "db65bec1-98ec-43af-9179-765e499e1467",
   "metadata": {},
   "outputs": [],
   "source": [
    "def clean_SQL_Query(sql_statement):\n",
    "    return sql_statement.replace('```sql','').replace('```','').replace('\\n',' ');"
   ]
  },
  {
   "cell_type": "markdown",
   "id": "d6e151bc-32eb-4943-975f-fd8e7e48b536",
   "metadata": {},
   "source": [
    "### Creating the fucntion that will call the SQL_CodeGenerator function and clean_SQL_Query function and execute the final query and generate the final result."
   ]
  },
  {
   "cell_type": "markdown",
   "id": "d5ab4e58-76f6-4fb0-8cca-2058efecc3a2",
   "metadata": {},
   "source": [
    "def nlp_sql_assistant():\n",
    "    #Calling the SQL_CodeGenerator function\n",
    "    result = SQL_CodeGenerator()\n",
    "    \n",
    "    #Passing the 'result' through clean_SQL_Query function\n",
    "    sql_comm = clean_SQL_Query(result.text)\n",
    "    \n",
    "    with db_conn.connect() as conn:\n",
    "        result_final = conn.execute(text(sql_comm))\n",
    "    print('\\n\\n\\n=================================')\n",
    "    print(\"here are your results:\")\n",
    "    print(result_final.all())\n",
    "nlp_sql_assistant()    "
   ]
  },
  {
   "cell_type": "markdown",
   "id": "f4ca96b4-508b-4839-ae4f-09a0d9032a16",
   "metadata": {},
   "source": [
    "### End of code"
   ]
  },
  {
   "cell_type": "code",
   "execution_count": null,
   "id": "6cb7acd8-e0e0-4fda-8b2b-22244c2cbb82",
   "metadata": {},
   "outputs": [],
   "source": []
  }
 ],
 "metadata": {
  "kernelspec": {
   "display_name": "Python 3 (ipykernel)",
   "language": "python",
   "name": "python3"
  },
  "language_info": {
   "codemirror_mode": {
    "name": "ipython",
    "version": 3
   },
   "file_extension": ".py",
   "mimetype": "text/x-python",
   "name": "python",
   "nbconvert_exporter": "python",
   "pygments_lexer": "ipython3",
   "version": "3.10.9"
  }
 },
 "nbformat": 4,
 "nbformat_minor": 5
}
