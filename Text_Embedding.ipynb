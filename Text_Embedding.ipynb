{
 "cells": [
  {
   "cell_type": "markdown",
   "id": "7a861d97-36e7-4ef9-a49a-eabb1616a8f7",
   "metadata": {},
   "source": [
    "### Importing all the required libraries"
   ]
  },
  {
   "cell_type": "code",
   "execution_count": 10,
   "id": "20ba3a14-3acf-4cb9-b3c0-5f070bc609a2",
   "metadata": {},
   "outputs": [],
   "source": [
    "import os\n",
    "import pandas as pd\n",
    "import ast\n",
    "os.environ['GOOGLE_APPLICATION_CREDENTIALS'] = '//Users//sayantrinisaha//Desktop//psyched-metrics-426921-h0-4a9007b858ad.json'\n",
    "from google.cloud import aiplatform\n",
    "from vertexai.language_models import TextGenerationModel"
   ]
  },
  {
   "cell_type": "markdown",
   "id": "cd0fb74d-f10d-4b46-87a7-25022904d513",
   "metadata": {},
   "source": [
    "### Read the dataset on which we are going to do embedding"
   ]
  },
  {
   "cell_type": "code",
   "execution_count": 143,
   "id": "6e2600e5-0999-44e4-a3a0-0d3dcfe68283",
   "metadata": {},
   "outputs": [
    {
     "data": {
      "text/html": [
       "<div>\n",
       "<style scoped>\n",
       "    .dataframe tbody tr th:only-of-type {\n",
       "        vertical-align: middle;\n",
       "    }\n",
       "\n",
       "    .dataframe tbody tr th {\n",
       "        vertical-align: top;\n",
       "    }\n",
       "\n",
       "    .dataframe thead th {\n",
       "        text-align: right;\n",
       "    }\n",
       "</style>\n",
       "<table border=\"1\" class=\"dataframe\">\n",
       "  <thead>\n",
       "    <tr style=\"text-align: right;\">\n",
       "      <th></th>\n",
       "      <th>Updated at</th>\n",
       "      <th>Company</th>\n",
       "      <th>Crunchbase Url</th>\n",
       "      <th>Last Valuation (Billion $)</th>\n",
       "      <th>Date Joined</th>\n",
       "      <th>Year Joined</th>\n",
       "      <th>City</th>\n",
       "      <th>Country</th>\n",
       "      <th>Industry</th>\n",
       "      <th>Investors</th>\n",
       "      <th>Company Website</th>\n",
       "    </tr>\n",
       "  </thead>\n",
       "  <tbody>\n",
       "    <tr>\n",
       "      <th>0</th>\n",
       "      <td>10/31/2022, 2:37:05 AM</td>\n",
       "      <td>Esusu</td>\n",
       "      <td>https://www.cbinsights.com/company/esusu</td>\n",
       "      <td>1.0</td>\n",
       "      <td>1/27/2022</td>\n",
       "      <td>2022</td>\n",
       "      <td>New York</td>\n",
       "      <td>United States</td>\n",
       "      <td>Fintech</td>\n",
       "      <td>[\"Next Play Ventures\",\"Zeal Capital Partners\",...</td>\n",
       "      <td>NaN</td>\n",
       "    </tr>\n",
       "    <tr>\n",
       "      <th>1</th>\n",
       "      <td>10/31/2022, 2:37:05 AM</td>\n",
       "      <td>Fever Labs</td>\n",
       "      <td>https://www.cbinsights.com/company/fever-labs</td>\n",
       "      <td>1.0</td>\n",
       "      <td>1/26/2022</td>\n",
       "      <td>2022</td>\n",
       "      <td>New York</td>\n",
       "      <td>United States</td>\n",
       "      <td>Internet software &amp; services</td>\n",
       "      <td>[\"Accel\",\"14W\",\"GS Growth\"]</td>\n",
       "      <td>NaN</td>\n",
       "    </tr>\n",
       "    <tr>\n",
       "      <th>2</th>\n",
       "      <td>10/31/2022, 2:37:04 AM</td>\n",
       "      <td>Minio</td>\n",
       "      <td>https://www.cbinsights.com/company/minio</td>\n",
       "      <td>1.0</td>\n",
       "      <td>1/26/2022</td>\n",
       "      <td>2022</td>\n",
       "      <td>Palo Alto</td>\n",
       "      <td>United States</td>\n",
       "      <td>Data management &amp; analytics</td>\n",
       "      <td>[\"General Catalyst\",\"Nexus Venture Partners\",\"...</td>\n",
       "      <td>NaN</td>\n",
       "    </tr>\n",
       "    <tr>\n",
       "      <th>3</th>\n",
       "      <td>10/31/2022, 2:37:04 AM</td>\n",
       "      <td>Darwinbox</td>\n",
       "      <td>https://www.cbinsights.com/company/darwinbox</td>\n",
       "      <td>1.0</td>\n",
       "      <td>1/25/2022</td>\n",
       "      <td>2022</td>\n",
       "      <td>Hyderabad</td>\n",
       "      <td>India</td>\n",
       "      <td>Internet software &amp; services</td>\n",
       "      <td>[\"Lightspeed India Partners\",\"Sequoia Capital ...</td>\n",
       "      <td>NaN</td>\n",
       "    </tr>\n",
       "    <tr>\n",
       "      <th>4</th>\n",
       "      <td>10/31/2022, 2:37:04 AM</td>\n",
       "      <td>Pentera</td>\n",
       "      <td>https://www.cbinsights.com/company/pcysys</td>\n",
       "      <td>1.0</td>\n",
       "      <td>1/11/2022</td>\n",
       "      <td>2022</td>\n",
       "      <td>Petah Tikva</td>\n",
       "      <td>Israel</td>\n",
       "      <td>Cybersecurity</td>\n",
       "      <td>[\"AWZ Ventures\",\"Blackstone\",\"Insight Partners\"]</td>\n",
       "      <td>NaN</td>\n",
       "    </tr>\n",
       "  </tbody>\n",
       "</table>\n",
       "</div>"
      ],
      "text/plain": [
       "               Updated at     Company  \\\n",
       "0  10/31/2022, 2:37:05 AM       Esusu   \n",
       "1  10/31/2022, 2:37:05 AM  Fever Labs   \n",
       "2  10/31/2022, 2:37:04 AM       Minio   \n",
       "3  10/31/2022, 2:37:04 AM   Darwinbox   \n",
       "4  10/31/2022, 2:37:04 AM     Pentera   \n",
       "\n",
       "                                  Crunchbase Url  Last Valuation (Billion $)  \\\n",
       "0       https://www.cbinsights.com/company/esusu                         1.0   \n",
       "1  https://www.cbinsights.com/company/fever-labs                         1.0   \n",
       "2       https://www.cbinsights.com/company/minio                         1.0   \n",
       "3   https://www.cbinsights.com/company/darwinbox                         1.0   \n",
       "4      https://www.cbinsights.com/company/pcysys                         1.0   \n",
       "\n",
       "  Date Joined  Year Joined         City        Country  \\\n",
       "0   1/27/2022         2022     New York  United States   \n",
       "1   1/26/2022         2022     New York  United States   \n",
       "2   1/26/2022         2022    Palo Alto  United States   \n",
       "3   1/25/2022         2022    Hyderabad          India   \n",
       "4   1/11/2022         2022  Petah Tikva         Israel   \n",
       "\n",
       "                       Industry  \\\n",
       "0                       Fintech   \n",
       "1  Internet software & services   \n",
       "2   Data management & analytics   \n",
       "3  Internet software & services   \n",
       "4                Cybersecurity    \n",
       "\n",
       "                                           Investors  Company Website  \n",
       "0  [\"Next Play Ventures\",\"Zeal Capital Partners\",...              NaN  \n",
       "1                        [\"Accel\",\"14W\",\"GS Growth\"]              NaN  \n",
       "2  [\"General Catalyst\",\"Nexus Venture Partners\",\"...              NaN  \n",
       "3  [\"Lightspeed India Partners\",\"Sequoia Capital ...              NaN  \n",
       "4   [\"AWZ Ventures\",\"Blackstone\",\"Insight Partners\"]              NaN  "
      ]
     },
     "execution_count": 143,
     "metadata": {},
     "output_type": "execute_result"
    }
   ],
   "source": [
    "df_companies = pd.read_csv('companies.csv')\n",
    "df_companies.head()"
   ]
  },
  {
   "cell_type": "markdown",
   "id": "3fe47ca5-af75-4f81-a716-558621de04b4",
   "metadata": {},
   "source": [
    "### Here I am using 'text-bison' to generate the result."
   ]
  },
  {
   "cell_type": "code",
   "execution_count": 157,
   "id": "f0b962eb-aebc-4e56-863f-228b525b593d",
   "metadata": {},
   "outputs": [
    {
     "data": {
      "text/plain": [
       " Minio, Inc. has raised a total of $105M in funding over 4 rounds. Their latest funding round was raised on May 11, 2022, from a Series B round. Minio, Inc. is funded by 10 investors. Their top investors include General Catalyst, Dell Technologies Capital, and A16Z."
      ]
     },
     "execution_count": 157,
     "metadata": {},
     "output_type": "execute_result"
    }
   ],
   "source": [
    "# I am first asking the model to give me back some information with any context context injection\n",
    "llm = TextGenerationModel.from_pretrained('text-bison')\n",
    "llm.predict(prompt='Tell me who are the venture capital firms for the company Minio?', max_output_tokens=1024, temperature=0)"
   ]
  },
  {
   "cell_type": "code",
   "execution_count": 155,
   "id": "e4a2d604-1bf6-41c0-8b17-319b22be9bfb",
   "metadata": {},
   "outputs": [
    {
     "data": {
      "text/plain": [
       "['General Catalyst', 'Nexus Venture Partners', 'Dell Technologies Capital']"
      ]
     },
     "execution_count": 155,
     "metadata": {},
     "output_type": "execute_result"
    }
   ],
   "source": [
    "# We fetch the investors from our csv file and it clearly shows that the llm is returning wrong investors.\n",
    "ast.literal_eval(df_companies.iloc[2]['Investors'])"
   ]
  },
  {
   "cell_type": "markdown",
   "id": "2ab96036-49ca-4bbb-b3d7-e8a778d72f2a",
   "metadata": {},
   "source": [
    "#### We do find 'General Catalyst', 'Nexus Venture Partners' in the result but not 'Dell Technologies Capital'. Instead, the llm is giving us 'A16Z' as one of the venture capital firm, which is wrong. "
   ]
  },
  {
   "cell_type": "markdown",
   "id": "8cf528d6-5547-4fb9-bcbd-4ae017b86414",
   "metadata": {},
   "source": [
    "### I am doing here some context injection by creating an additional column 'summary', which will be able to inject some context."
   ]
  },
  {
   "cell_type": "code",
   "execution_count": 161,
   "id": "20944b6b-ef5f-41ad-9aad-f11584b4ae37",
   "metadata": {},
   "outputs": [
    {
     "data": {
      "text/html": [
       "<div>\n",
       "<style scoped>\n",
       "    .dataframe tbody tr th:only-of-type {\n",
       "        vertical-align: middle;\n",
       "    }\n",
       "\n",
       "    .dataframe tbody tr th {\n",
       "        vertical-align: top;\n",
       "    }\n",
       "\n",
       "    .dataframe thead th {\n",
       "        text-align: right;\n",
       "    }\n",
       "</style>\n",
       "<table border=\"1\" class=\"dataframe\">\n",
       "  <thead>\n",
       "    <tr style=\"text-align: right;\">\n",
       "      <th></th>\n",
       "      <th>Updated at</th>\n",
       "      <th>Company</th>\n",
       "      <th>Crunchbase Url</th>\n",
       "      <th>Last Valuation (Billion $)</th>\n",
       "      <th>Date Joined</th>\n",
       "      <th>Year Joined</th>\n",
       "      <th>City</th>\n",
       "      <th>Country</th>\n",
       "      <th>Industry</th>\n",
       "      <th>Investors</th>\n",
       "      <th>Company Website</th>\n",
       "      <th>summary</th>\n",
       "    </tr>\n",
       "  </thead>\n",
       "  <tbody>\n",
       "    <tr>\n",
       "      <th>0</th>\n",
       "      <td>10/31/2022, 2:37:05 AM</td>\n",
       "      <td>Esusu</td>\n",
       "      <td>https://www.cbinsights.com/company/esusu</td>\n",
       "      <td>1.0</td>\n",
       "      <td>1/27/2022</td>\n",
       "      <td>2022</td>\n",
       "      <td>New York</td>\n",
       "      <td>United States</td>\n",
       "      <td>Fintech</td>\n",
       "      <td>[\"Next Play Ventures\",\"Zeal Capital Partners\",...</td>\n",
       "      <td>NaN</td>\n",
       "      <td>Esusu has headquarters in New York in United S...</td>\n",
       "    </tr>\n",
       "    <tr>\n",
       "      <th>1</th>\n",
       "      <td>10/31/2022, 2:37:05 AM</td>\n",
       "      <td>Fever Labs</td>\n",
       "      <td>https://www.cbinsights.com/company/fever-labs</td>\n",
       "      <td>1.0</td>\n",
       "      <td>1/26/2022</td>\n",
       "      <td>2022</td>\n",
       "      <td>New York</td>\n",
       "      <td>United States</td>\n",
       "      <td>Internet software &amp; services</td>\n",
       "      <td>[\"Accel\",\"14W\",\"GS Growth\"]</td>\n",
       "      <td>NaN</td>\n",
       "      <td>Fever Labs has headquarters in New York in Uni...</td>\n",
       "    </tr>\n",
       "    <tr>\n",
       "      <th>2</th>\n",
       "      <td>10/31/2022, 2:37:04 AM</td>\n",
       "      <td>Minio</td>\n",
       "      <td>https://www.cbinsights.com/company/minio</td>\n",
       "      <td>1.0</td>\n",
       "      <td>1/26/2022</td>\n",
       "      <td>2022</td>\n",
       "      <td>Palo Alto</td>\n",
       "      <td>United States</td>\n",
       "      <td>Data management &amp; analytics</td>\n",
       "      <td>[\"General Catalyst\",\"Nexus Venture Partners\",\"...</td>\n",
       "      <td>NaN</td>\n",
       "      <td>Minio has headquarters in Palo Alto in United ...</td>\n",
       "    </tr>\n",
       "    <tr>\n",
       "      <th>3</th>\n",
       "      <td>10/31/2022, 2:37:04 AM</td>\n",
       "      <td>Darwinbox</td>\n",
       "      <td>https://www.cbinsights.com/company/darwinbox</td>\n",
       "      <td>1.0</td>\n",
       "      <td>1/25/2022</td>\n",
       "      <td>2022</td>\n",
       "      <td>Hyderabad</td>\n",
       "      <td>India</td>\n",
       "      <td>Internet software &amp; services</td>\n",
       "      <td>[\"Lightspeed India Partners\",\"Sequoia Capital ...</td>\n",
       "      <td>NaN</td>\n",
       "      <td>Darwinbox has headquarters in Hyderabad in Ind...</td>\n",
       "    </tr>\n",
       "    <tr>\n",
       "      <th>4</th>\n",
       "      <td>10/31/2022, 2:37:04 AM</td>\n",
       "      <td>Pentera</td>\n",
       "      <td>https://www.cbinsights.com/company/pcysys</td>\n",
       "      <td>1.0</td>\n",
       "      <td>1/11/2022</td>\n",
       "      <td>2022</td>\n",
       "      <td>Petah Tikva</td>\n",
       "      <td>Israel</td>\n",
       "      <td>Cybersecurity</td>\n",
       "      <td>[\"AWZ Ventures\",\"Blackstone\",\"Insight Partners\"]</td>\n",
       "      <td>NaN</td>\n",
       "      <td>Pentera has headquarters in Petah Tikva in Isr...</td>\n",
       "    </tr>\n",
       "  </tbody>\n",
       "</table>\n",
       "</div>"
      ],
      "text/plain": [
       "               Updated at     Company  \\\n",
       "0  10/31/2022, 2:37:05 AM       Esusu   \n",
       "1  10/31/2022, 2:37:05 AM  Fever Labs   \n",
       "2  10/31/2022, 2:37:04 AM       Minio   \n",
       "3  10/31/2022, 2:37:04 AM   Darwinbox   \n",
       "4  10/31/2022, 2:37:04 AM     Pentera   \n",
       "\n",
       "                                  Crunchbase Url  Last Valuation (Billion $)  \\\n",
       "0       https://www.cbinsights.com/company/esusu                         1.0   \n",
       "1  https://www.cbinsights.com/company/fever-labs                         1.0   \n",
       "2       https://www.cbinsights.com/company/minio                         1.0   \n",
       "3   https://www.cbinsights.com/company/darwinbox                         1.0   \n",
       "4      https://www.cbinsights.com/company/pcysys                         1.0   \n",
       "\n",
       "  Date Joined  Year Joined         City        Country  \\\n",
       "0   1/27/2022         2022     New York  United States   \n",
       "1   1/26/2022         2022     New York  United States   \n",
       "2   1/26/2022         2022    Palo Alto  United States   \n",
       "3   1/25/2022         2022    Hyderabad          India   \n",
       "4   1/11/2022         2022  Petah Tikva         Israel   \n",
       "\n",
       "                       Industry  \\\n",
       "0                       Fintech   \n",
       "1  Internet software & services   \n",
       "2   Data management & analytics   \n",
       "3  Internet software & services   \n",
       "4                Cybersecurity    \n",
       "\n",
       "                                           Investors  Company Website  \\\n",
       "0  [\"Next Play Ventures\",\"Zeal Capital Partners\",...              NaN   \n",
       "1                        [\"Accel\",\"14W\",\"GS Growth\"]              NaN   \n",
       "2  [\"General Catalyst\",\"Nexus Venture Partners\",\"...              NaN   \n",
       "3  [\"Lightspeed India Partners\",\"Sequoia Capital ...              NaN   \n",
       "4   [\"AWZ Ventures\",\"Blackstone\",\"Insight Partners\"]              NaN   \n",
       "\n",
       "                                             summary  \n",
       "0  Esusu has headquarters in New York in United S...  \n",
       "1  Fever Labs has headquarters in New York in Uni...  \n",
       "2  Minio has headquarters in Palo Alto in United ...  \n",
       "3  Darwinbox has headquarters in Hyderabad in Ind...  \n",
       "4  Pentera has headquarters in Petah Tikva in Isr...  "
      ]
     },
     "execution_count": 161,
     "metadata": {},
     "output_type": "execute_result"
    }
   ],
   "source": [
    "def summary(company,crunchbase_url,city,country,industry,investor_list):\n",
    "    investors = 'The investors in the company are'\n",
    "     \n",
    "    for investor in ast.literal_eval(investor_list):\n",
    "        investors += f\" {investor}, \"\n",
    "\n",
    "    text = f\"{company} has headquarters in {city} in {country} and is in the field of {industry}. {investors}. You can find more information at {crunchbase_url}\"\n",
    "\n",
    "    return text\n",
    "    \n",
    "df_companies['summary'] = df_companies.apply(lambda df_companies: summary(df_companies['Company'],df_companies['Crunchbase Url'],df_companies['City'],df_companies['Country'],df_companies['Industry'],df_companies['Investors']),axis=1)\n",
    "df_companies.head()"
   ]
  },
  {
   "cell_type": "code",
   "execution_count": 165,
   "id": "102e488c-82f5-4053-b3f3-37b556590e74",
   "metadata": {},
   "outputs": [
    {
     "data": {
      "text/plain": [
       " The venture capital firms for the company Minio are:\n",
       "\n",
       "- General Catalyst\n",
       "- Nexus Venture Partners\n",
       "- Dell Technologies Capital"
      ]
     },
     "execution_count": 165,
     "metadata": {},
     "output_type": "execute_result"
    }
   ],
   "source": [
    "context = df_companies.iloc[2]['summary']\n",
    "prompt = f\"Tell me who are the venture capital firms for the company Minio, here is some context:\\n {context}\"\n",
    "llm.predict(prompt=prompt, max_output_tokens=1024, temperature=0)"
   ]
  },
  {
   "cell_type": "markdown",
   "id": "4f293c5b-3629-42df-b51e-a34c8eaba2f1",
   "metadata": {},
   "source": [
    "### We can automate this process using Text Embedding"
   ]
  },
  {
   "cell_type": "markdown",
   "id": "ba0aa208-9ca5-4bd1-b74c-30b58938918a",
   "metadata": {},
   "source": [
    "#### Importing all the required libraries"
   ]
  },
  {
   "cell_type": "code",
   "execution_count": 170,
   "id": "8550f259-b085-4b88-9b06-a211df07dd41",
   "metadata": {},
   "outputs": [],
   "source": [
    "from vertexai.language_models import TextEmbeddingModel\n",
    "embedder = TextEmbeddingModel.from_pretrained('textembedding-gecko@001')\n",
    "import numpy as np"
   ]
  },
  {
   "cell_type": "markdown",
   "id": "789b2458-943e-460e-981f-358556c7b3e5",
   "metadata": {},
   "source": [
    "#### Since creating the embedding(vectors) for each column wouls be costly, hence I am only taking the first 5 rows from our df_companies dataframe."
   ]
  },
  {
   "cell_type": "code",
   "execution_count": 173,
   "id": "116d67be-a99e-4b90-a6bf-b09bbea17340",
   "metadata": {},
   "outputs": [],
   "source": [
    "new_df_companies = df_companies.head(5)"
   ]
  },
  {
   "cell_type": "code",
   "execution_count": 175,
   "id": "fff27c91-8de6-424d-b34c-708f9365d847",
   "metadata": {},
   "outputs": [],
   "source": [
    "# Creating the function which will return the embedding vector values for the column that we will pass \n",
    "def get_summary_embeddings(var_name):\n",
    "    return embedder.get_embeddings([var_name])[0].values"
   ]
  },
  {
   "cell_type": "markdown",
   "id": "daea4811-80da-4660-b136-77b2bd0ef067",
   "metadata": {},
   "source": [
    "#### Testing if my get_summary_embeddings is working or not"
   ]
  },
  {
   "cell_type": "code",
   "execution_count": 182,
   "id": "bebd3fa7-bd49-4666-aaea-64803caa3af0",
   "metadata": {},
   "outputs": [
    {
     "name": "stderr",
     "output_type": "stream",
     "text": [
      "/var/folders/2r/zmh_rl2d2wx2cg1yrcdz2bcr0000gn/T/ipykernel_95919/2835627041.py:1: SettingWithCopyWarning: \n",
      "A value is trying to be set on a copy of a slice from a DataFrame.\n",
      "Try using .loc[row_indexer,col_indexer] = value instead\n",
      "\n",
      "See the caveats in the documentation: https://pandas.pydata.org/pandas-docs/stable/user_guide/indexing.html#returning-a-view-versus-a-copy\n",
      "  new_df_companies['embeddings'] = new_df_companies['summary'].apply(get_summary_embeddings)\n"
     ]
    },
    {
     "data": {
      "text/html": [
       "<div>\n",
       "<style scoped>\n",
       "    .dataframe tbody tr th:only-of-type {\n",
       "        vertical-align: middle;\n",
       "    }\n",
       "\n",
       "    .dataframe tbody tr th {\n",
       "        vertical-align: top;\n",
       "    }\n",
       "\n",
       "    .dataframe thead th {\n",
       "        text-align: right;\n",
       "    }\n",
       "</style>\n",
       "<table border=\"1\" class=\"dataframe\">\n",
       "  <thead>\n",
       "    <tr style=\"text-align: right;\">\n",
       "      <th></th>\n",
       "      <th>Updated at</th>\n",
       "      <th>Company</th>\n",
       "      <th>Crunchbase Url</th>\n",
       "      <th>Last Valuation (Billion $)</th>\n",
       "      <th>Date Joined</th>\n",
       "      <th>Year Joined</th>\n",
       "      <th>City</th>\n",
       "      <th>Country</th>\n",
       "      <th>Industry</th>\n",
       "      <th>Investors</th>\n",
       "      <th>Company Website</th>\n",
       "      <th>summary</th>\n",
       "      <th>embeddings</th>\n",
       "    </tr>\n",
       "  </thead>\n",
       "  <tbody>\n",
       "    <tr>\n",
       "      <th>0</th>\n",
       "      <td>10/31/2022, 2:37:05 AM</td>\n",
       "      <td>Esusu</td>\n",
       "      <td>https://www.cbinsights.com/company/esusu</td>\n",
       "      <td>1.0</td>\n",
       "      <td>1/27/2022</td>\n",
       "      <td>2022</td>\n",
       "      <td>New York</td>\n",
       "      <td>United States</td>\n",
       "      <td>Fintech</td>\n",
       "      <td>[\"Next Play Ventures\",\"Zeal Capital Partners\",...</td>\n",
       "      <td>NaN</td>\n",
       "      <td>Esusu has headquarters in New York in United S...</td>\n",
       "      <td>[-0.030785107985138893, 0.00467604398727417, -...</td>\n",
       "    </tr>\n",
       "    <tr>\n",
       "      <th>1</th>\n",
       "      <td>10/31/2022, 2:37:05 AM</td>\n",
       "      <td>Fever Labs</td>\n",
       "      <td>https://www.cbinsights.com/company/fever-labs</td>\n",
       "      <td>1.0</td>\n",
       "      <td>1/26/2022</td>\n",
       "      <td>2022</td>\n",
       "      <td>New York</td>\n",
       "      <td>United States</td>\n",
       "      <td>Internet software &amp; services</td>\n",
       "      <td>[\"Accel\",\"14W\",\"GS Growth\"]</td>\n",
       "      <td>NaN</td>\n",
       "      <td>Fever Labs has headquarters in New York in Uni...</td>\n",
       "      <td>[0.03269707411527634, -0.01659333147108555, -0...</td>\n",
       "    </tr>\n",
       "    <tr>\n",
       "      <th>2</th>\n",
       "      <td>10/31/2022, 2:37:04 AM</td>\n",
       "      <td>Minio</td>\n",
       "      <td>https://www.cbinsights.com/company/minio</td>\n",
       "      <td>1.0</td>\n",
       "      <td>1/26/2022</td>\n",
       "      <td>2022</td>\n",
       "      <td>Palo Alto</td>\n",
       "      <td>United States</td>\n",
       "      <td>Data management &amp; analytics</td>\n",
       "      <td>[\"General Catalyst\",\"Nexus Venture Partners\",\"...</td>\n",
       "      <td>NaN</td>\n",
       "      <td>Minio has headquarters in Palo Alto in United ...</td>\n",
       "      <td>[0.014637074433267117, -0.036619797348976135, ...</td>\n",
       "    </tr>\n",
       "    <tr>\n",
       "      <th>3</th>\n",
       "      <td>10/31/2022, 2:37:04 AM</td>\n",
       "      <td>Darwinbox</td>\n",
       "      <td>https://www.cbinsights.com/company/darwinbox</td>\n",
       "      <td>1.0</td>\n",
       "      <td>1/25/2022</td>\n",
       "      <td>2022</td>\n",
       "      <td>Hyderabad</td>\n",
       "      <td>India</td>\n",
       "      <td>Internet software &amp; services</td>\n",
       "      <td>[\"Lightspeed India Partners\",\"Sequoia Capital ...</td>\n",
       "      <td>NaN</td>\n",
       "      <td>Darwinbox has headquarters in Hyderabad in Ind...</td>\n",
       "      <td>[0.016650568693876266, -0.02540149912238121, -...</td>\n",
       "    </tr>\n",
       "    <tr>\n",
       "      <th>4</th>\n",
       "      <td>10/31/2022, 2:37:04 AM</td>\n",
       "      <td>Pentera</td>\n",
       "      <td>https://www.cbinsights.com/company/pcysys</td>\n",
       "      <td>1.0</td>\n",
       "      <td>1/11/2022</td>\n",
       "      <td>2022</td>\n",
       "      <td>Petah Tikva</td>\n",
       "      <td>Israel</td>\n",
       "      <td>Cybersecurity</td>\n",
       "      <td>[\"AWZ Ventures\",\"Blackstone\",\"Insight Partners\"]</td>\n",
       "      <td>NaN</td>\n",
       "      <td>Pentera has headquarters in Petah Tikva in Isr...</td>\n",
       "      <td>[-0.02143833413720131, -0.019953027367591858, ...</td>\n",
       "    </tr>\n",
       "  </tbody>\n",
       "</table>\n",
       "</div>"
      ],
      "text/plain": [
       "               Updated at     Company  \\\n",
       "0  10/31/2022, 2:37:05 AM       Esusu   \n",
       "1  10/31/2022, 2:37:05 AM  Fever Labs   \n",
       "2  10/31/2022, 2:37:04 AM       Minio   \n",
       "3  10/31/2022, 2:37:04 AM   Darwinbox   \n",
       "4  10/31/2022, 2:37:04 AM     Pentera   \n",
       "\n",
       "                                  Crunchbase Url  Last Valuation (Billion $)  \\\n",
       "0       https://www.cbinsights.com/company/esusu                         1.0   \n",
       "1  https://www.cbinsights.com/company/fever-labs                         1.0   \n",
       "2       https://www.cbinsights.com/company/minio                         1.0   \n",
       "3   https://www.cbinsights.com/company/darwinbox                         1.0   \n",
       "4      https://www.cbinsights.com/company/pcysys                         1.0   \n",
       "\n",
       "  Date Joined  Year Joined         City        Country  \\\n",
       "0   1/27/2022         2022     New York  United States   \n",
       "1   1/26/2022         2022     New York  United States   \n",
       "2   1/26/2022         2022    Palo Alto  United States   \n",
       "3   1/25/2022         2022    Hyderabad          India   \n",
       "4   1/11/2022         2022  Petah Tikva         Israel   \n",
       "\n",
       "                       Industry  \\\n",
       "0                       Fintech   \n",
       "1  Internet software & services   \n",
       "2   Data management & analytics   \n",
       "3  Internet software & services   \n",
       "4                Cybersecurity    \n",
       "\n",
       "                                           Investors  Company Website  \\\n",
       "0  [\"Next Play Ventures\",\"Zeal Capital Partners\",...              NaN   \n",
       "1                        [\"Accel\",\"14W\",\"GS Growth\"]              NaN   \n",
       "2  [\"General Catalyst\",\"Nexus Venture Partners\",\"...              NaN   \n",
       "3  [\"Lightspeed India Partners\",\"Sequoia Capital ...              NaN   \n",
       "4   [\"AWZ Ventures\",\"Blackstone\",\"Insight Partners\"]              NaN   \n",
       "\n",
       "                                             summary  \\\n",
       "0  Esusu has headquarters in New York in United S...   \n",
       "1  Fever Labs has headquarters in New York in Uni...   \n",
       "2  Minio has headquarters in Palo Alto in United ...   \n",
       "3  Darwinbox has headquarters in Hyderabad in Ind...   \n",
       "4  Pentera has headquarters in Petah Tikva in Isr...   \n",
       "\n",
       "                                          embeddings  \n",
       "0  [-0.030785107985138893, 0.00467604398727417, -...  \n",
       "1  [0.03269707411527634, -0.01659333147108555, -0...  \n",
       "2  [0.014637074433267117, -0.036619797348976135, ...  \n",
       "3  [0.016650568693876266, -0.02540149912238121, -...  \n",
       "4  [-0.02143833413720131, -0.019953027367591858, ...  "
      ]
     },
     "execution_count": 182,
     "metadata": {},
     "output_type": "execute_result"
    }
   ],
   "source": [
    "new_df_companies['embeddings'] = new_df_companies['summary'].apply(get_summary_embeddings)\n",
    "new_df_companies.head()"
   ]
  },
  {
   "cell_type": "code",
   "execution_count": null,
   "id": "9cf4502f-4991-4f91-b67c-def384e97266",
   "metadata": {},
   "outputs": [],
   "source": []
  },
  {
   "cell_type": "markdown",
   "id": "797cda4a-5318-47b2-a305-0fb466b18066",
   "metadata": {},
   "source": [
    "#### We cannot take the dot product of a python list, but we can do dot product on a numpy array"
   ]
  },
  {
   "cell_type": "code",
   "execution_count": 125,
   "id": "fd328003-86f4-4683-889a-27945df83d37",
   "metadata": {},
   "outputs": [],
   "source": [
    "def vector_similarity(A,B):\n",
    "    vec1 = np.array(A)\n",
    "    vec2 = np.array(B)\n",
    "\n",
    "    return np.dot(np.array(vec1), np.array(vec2))"
   ]
  },
  {
   "cell_type": "markdown",
   "id": "2b3ba151-1910-4e05-bb8a-e3298dd18663",
   "metadata": {},
   "source": [
    "#### Creating the function here which will take the vector of the user question and the vector of the embedding column and will perform a dot product. Higher value of the dot product means it is more similar, while lesser value of dot product means not very similar. Finally, I am passing here the content of the 'summary' column for which it will give the higest dot product, as a context in the prompt."
   ]
  },
  {
   "cell_type": "code",
   "execution_count": null,
   "id": "57c152f8-c070-4f31-88d6-1c7d3d598893",
   "metadata": {},
   "outputs": [],
   "source": [
    "# Query -> Vector -> Similar vector in the database -> Text -> Context -> Query+Context"
   ]
  },
  {
   "cell_type": "code",
   "execution_count": 190,
   "id": "57b0a590-2fa7-437f-806a-1f9069ff1b49",
   "metadata": {},
   "outputs": [
    {
     "name": "stdin",
     "output_type": "stream",
     "text": [
      "What question do you have about a startup? Tell me something about the company Minio\n"
     ]
    },
    {
     "name": "stderr",
     "output_type": "stream",
     "text": [
      "/var/folders/2r/zmh_rl2d2wx2cg1yrcdz2bcr0000gn/T/ipykernel_95919/3310817639.py:8: SettingWithCopyWarning: \n",
      "A value is trying to be set on a copy of a slice from a DataFrame.\n",
      "Try using .loc[row_indexer,col_indexer] = value instead\n",
      "\n",
      "See the caveats in the documentation: https://pandas.pydata.org/pandas-docs/stable/user_guide/indexing.html#returning-a-view-versus-a-copy\n",
      "  new_df_companies['prompt_similarity'] = new_df_companies['embeddings'].apply(lambda vector: vector_similarity(prompt_embedding, vector))\n"
     ]
    },
    {
     "name": "stdout",
     "output_type": "stream",
     "text": [
      " Minio is a data management and analytics company headquartered in Palo Alto, United States. It has received investments from General Catalyst, Nexus Venture Partners, and Dell Technologies Capital.\n"
     ]
    }
   ],
   "source": [
    "def embed_prompt_loopup():\n",
    "    question = input(\"What question do you have about a startup?\")\n",
    "\n",
    "    #API call -> Embedding\n",
    "    prompt_embedding = get_summary_embeddings(question)\n",
    "\n",
    "    #Similarity search - can be expensive it the dataframe is large.\n",
    "    new_df_companies['prompt_similarity'] = new_df_companies['embeddings'].apply(lambda vector: vector_similarity(prompt_embedding, vector))\n",
    "\n",
    "    #Most similar embedding/row\n",
    "    context = new_df_companies.nlargest(1, 'prompt_similarity').iloc[0]['summary']                                                          \n",
    "                                                                 \n",
    "    # Prompt + context injection\n",
    "    prompt = f\"\"\"Only answer the question below if you have 100% certainity of the facts. Use the context blow.\n",
    "    Here is some context: \\n\n",
    "    {context}\n",
    "\n",
    "    Question: {question}\n",
    "    \"\"\"\n",
    "\n",
    "    results = llm.predict(prompt=prompt, temperature=0, max_output_tokens=2048)\n",
    "    print(results.text)\n",
    "embed_prompt_loopup()    "
   ]
  },
  {
   "cell_type": "markdown",
   "id": "7ade7b0f-92d8-4660-834f-8fcce7ea5f97",
   "metadata": {},
   "source": [
    "### End of code"
   ]
  },
  {
   "cell_type": "code",
   "execution_count": null,
   "id": "5f924b6b-d5e9-474a-9fb7-7a1e349817e3",
   "metadata": {},
   "outputs": [],
   "source": []
  }
 ],
 "metadata": {
  "kernelspec": {
   "display_name": "Python 3 (ipykernel)",
   "language": "python",
   "name": "python3"
  },
  "language_info": {
   "codemirror_mode": {
    "name": "ipython",
    "version": 3
   },
   "file_extension": ".py",
   "mimetype": "text/x-python",
   "name": "python",
   "nbconvert_exporter": "python",
   "pygments_lexer": "ipython3",
   "version": "3.10.9"
  }
 },
 "nbformat": 4,
 "nbformat_minor": 5
}
