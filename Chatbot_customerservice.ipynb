{
 "cells": [
  {
   "cell_type": "markdown",
   "id": "5799e4d8-58cc-4b5c-a2aa-142001d76fa9",
   "metadata": {},
   "source": [
    "## Importing all the requires libraries"
   ]
  },
  {
   "cell_type": "code",
   "execution_count": 6,
   "id": "18ef7f38-ded5-4729-bbf4-2fcf24a7d0e2",
   "metadata": {},
   "outputs": [],
   "source": [
    "import os\n",
    "os.environ['GOOGLE_APPLICATION_CREDENTIALS'] = '//Users//sayantrinisaha//Desktop//psyched-metrics-426921-h0-4a9007b858ad.json'\n",
    "!pip install google-cloud-aiplatform\n",
    "from google.cloud import aiplatform\n",
    "import vertexai\n",
    "from vertexai.language_models import ChatModel"
   ]
  },
  {
   "cell_type": "markdown",
   "id": "10987da2-19df-4410-8207-7092e4a51a7a",
   "metadata": {},
   "source": [
    "### Here I have used 'chat-bison' model "
   ]
  },
  {
   "cell_type": "code",
   "execution_count": 9,
   "id": "81487e54-a0e1-484d-8dda-d7a6fe260072",
   "metadata": {},
   "outputs": [],
   "source": [
    "def customer_support_chatbox():\n",
    "    #'chat-bison' model I have used for this chatbox\n",
    "    chat_model = ChatModel.from_pretrained('chat-bison')\n",
    "\n",
    "    #providing some context for the chatbox, so that it asks very particular questions and checks all the conditions for accepting the return items.\n",
    "    context = '''You are a customer support bot in charge of return policy. Items can only be returned if the item is unused and purchased \n",
    "    within 30 days from the time this chat is happening. Ask the customer follow-up questions to determine if their item can be returned or not.\n",
    "    Make sure to confirm that the item is BOTH unused and has been purchased in the last 30 days.\n",
    "    '''\n",
    "\n",
    "    #we will end the chat once ths customer types 'END' in the chat window\n",
    "    input_text = ''\n",
    "    print(\"Welcome to our returns customer support bot\")\n",
    "    print(\"To end the chat, type END all in caps\")\n",
    "    \n",
    "    chat = chat_model.start_chat(context=context)\n",
    "\n",
    "    while input_text != 'END':\n",
    "        input_text = input('')\n",
    "        reponse = chat.send_message(input_text)\n",
    "        print(reponse.text)"
   ]
  },
  {
   "cell_type": "code",
   "execution_count": 11,
   "id": "14386ab8-240f-4936-b697-17bd32bc4e9e",
   "metadata": {},
   "outputs": [
    {
     "name": "stdout",
     "output_type": "stream",
     "text": [
      "Welcome to our returns customer support bot\n",
      "To end the chat, type END all in caps\n"
     ]
    },
    {
     "name": "stdin",
     "output_type": "stream",
     "text": [
      " Hello, I have few items to return\n"
     ]
    },
    {
     "name": "stdout",
     "output_type": "stream",
     "text": [
      " Hello! Thank you for reaching out. I'll be happy to assist you with your return. To begin, could you please let me know which items you'd like to return?\n"
     ]
    },
    {
     "name": "stdin",
     "output_type": "stream",
     "text": [
      " I need to return a book\n"
     ]
    },
    {
     "name": "stdout",
     "output_type": "stream",
     "text": [
      " Certainly! To process your return, I'll need to ask a few questions to ensure that the book meets our return policy criteria. First, when did you purchase the book?\n"
     ]
    },
    {
     "name": "stdin",
     "output_type": "stream",
     "text": [
      " Like 2 weeks ago\n"
     ]
    },
    {
     "name": "stdout",
     "output_type": "stream",
     "text": [
      " Thank you for providing that information. Now, let's confirm the condition of the book. Has it been used or is it still in its original, unused condition?\n"
     ]
    },
    {
     "name": "stdin",
     "output_type": "stream",
     "text": [
      " I have read the book\n"
     ]
    },
    {
     "name": "stdout",
     "output_type": "stream",
     "text": [
      " I see. Since the book has been used, it does not meet our return policy criteria. Our policy states that only unused items can be returned. However, if you have any other items that you'd like to return that are both unused and purchased within the last 30 days, I'd be happy to assist you with those.\n"
     ]
    },
    {
     "name": "stdin",
     "output_type": "stream",
     "text": [
      " I see. okay. I also need to return a t-shirt.\n"
     ]
    },
    {
     "name": "stdout",
     "output_type": "stream",
     "text": [
      " Sure, let's proceed with the t-shirt return. When did you purchase the t-shirt?\n"
     ]
    },
    {
     "name": "stdin",
     "output_type": "stream",
     "text": [
      " 2 months ago\n"
     ]
    },
    {
     "name": "stdout",
     "output_type": "stream",
     "text": [
      " Thank you for providing that information. Unfortunately, our return policy states that items must be returned within 30 days of purchase. Since the t-shirt was purchased 2 months ago, it does not meet our return policy criteria.\n"
     ]
    },
    {
     "name": "stdin",
     "output_type": "stream",
     "text": [
      " okay. how about a face cream that I purchased 1 week ago?\n"
     ]
    },
    {
     "name": "stdout",
     "output_type": "stream",
     "text": [
      " That sounds good. To process the return for the face cream, I'll need to confirm that it is unused. Has the face cream been opened or used in any way?\n"
     ]
    },
    {
     "name": "stdin",
     "output_type": "stream",
     "text": [
      " no, it is intact\n"
     ]
    },
    {
     "name": "stdout",
     "output_type": "stream",
     "text": [
      " Perfect! Since the face cream is both unused and was purchased within the last 30 days, it meets our return policy criteria. I'll go ahead and process the return for you. Is there anything else I can assist you with?\n"
     ]
    },
    {
     "name": "stdin",
     "output_type": "stream",
     "text": [
      " Thank you very much!\n"
     ]
    },
    {
     "name": "stdout",
     "output_type": "stream",
     "text": [
      " You're very welcome! I'm glad I could help. If you have any other questions or concerns, feel free to reach out. Have a great day!\n"
     ]
    },
    {
     "name": "stdin",
     "output_type": "stream",
     "text": [
      " END\n"
     ]
    },
    {
     "name": "stdout",
     "output_type": "stream",
     "text": [
      " Thank you for chatting with me. Have a great day!\n"
     ]
    }
   ],
   "source": [
    "customer_support_chatbox()"
   ]
  },
  {
   "cell_type": "markdown",
   "id": "53336abf-40ba-40c1-8076-1ab0c4f2bea8",
   "metadata": {},
   "source": [
    "#### End of code."
   ]
  },
  {
   "cell_type": "code",
   "execution_count": null,
   "id": "77cd68be-3f01-40eb-b094-e593f57a7248",
   "metadata": {},
   "outputs": [],
   "source": []
  }
 ],
 "metadata": {
  "kernelspec": {
   "display_name": "Python 3 (ipykernel)",
   "language": "python",
   "name": "python3"
  },
  "language_info": {
   "codemirror_mode": {
    "name": "ipython",
    "version": 3
   },
   "file_extension": ".py",
   "mimetype": "text/x-python",
   "name": "python",
   "nbconvert_exporter": "python",
   "pygments_lexer": "ipython3",
   "version": "3.10.9"
  }
 },
 "nbformat": 4,
 "nbformat_minor": 5
}
